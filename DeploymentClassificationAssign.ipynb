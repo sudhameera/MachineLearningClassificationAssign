{
 "cells": [
  {
   "cell_type": "code",
   "execution_count": 1,
   "id": "850950bc",
   "metadata": {},
   "outputs": [],
   "source": [
    "import pickle\n"
   ]
  },
  {
   "cell_type": "code",
   "execution_count": 2,
   "id": "1cd377e3",
   "metadata": {},
   "outputs": [],
   "source": [
    "loadModel=pickle.load(open(\"FinalModelClassificationAssign.sav\",\"rb\"))"
   ]
  },
  {
   "cell_type": "code",
   "execution_count": 3,
   "id": "20c1e615",
   "metadata": {},
   "outputs": [],
   "source": [
    "result=loadModel.predict([[30,80,0,2,100,50,1,120,5,16,1,0,0,1,1,0,0,0,0,1,0,0,0,0,1,1,0]])"
   ]
  },
  {
   "cell_type": "code",
   "execution_count": 4,
   "id": "88175a04",
   "metadata": {},
   "outputs": [
    {
     "name": "stdout",
     "output_type": "stream",
     "text": [
      "The Prediction for Kidney Disease is :[1]\n"
     ]
    }
   ],
   "source": [
    "print(\"The Prediction for Kidney Disease is :{}\".format(result))"
   ]
  },
  {
   "cell_type": "code",
   "execution_count": null,
   "id": "6c1e30fa",
   "metadata": {},
   "outputs": [],
   "source": []
  }
 ],
 "metadata": {
  "kernelspec": {
   "display_name": "Python 3 (ipykernel)",
   "language": "python",
   "name": "python3"
  },
  "language_info": {
   "codemirror_mode": {
    "name": "ipython",
    "version": 3
   },
   "file_extension": ".py",
   "mimetype": "text/x-python",
   "name": "python",
   "nbconvert_exporter": "python",
   "pygments_lexer": "ipython3",
   "version": "3.9.13"
  }
 },
 "nbformat": 4,
 "nbformat_minor": 5
}
